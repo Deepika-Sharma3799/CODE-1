{
 "cells": [
  {
   "cell_type": "markdown",
   "id": "66997fdf",
   "metadata": {},
   "source": [
    " Problem #1\n",
    "Determine whether a tree is a valid binary search tree.\n"
   ]
  },
  {
   "cell_type": "code",
   "execution_count": 5,
   "id": "de3e8618",
   "metadata": {},
   "outputs": [
    {
     "name": "stdout",
     "output_type": "stream",
     "text": [
      " Yes,It is BST\n"
     ]
    }
   ],
   "source": [
    "class Node:\n",
    "    def __init__(self, val=None, left=None, right=None):\n",
    "        self.val = val\n",
    "        self.left = left\n",
    "        self.right = right\n",
    "def is_bst(root):\n",
    "    def is_valid(node, left , right):\n",
    "        if not node:\n",
    "            return True\n",
    "        if not (node.val<right and node.val>left):\n",
    "            return False\n",
    "        \n",
    "        return( is_valid(node.left, left, node.val)and is_valid(node.right, node.val, right))\n",
    "       \n",
    "    return is_valid(root, float(\"-inf\"), float(\"inf\"))\n",
    "\n",
    "root = Node(6)\n",
    "root.left = Node(2)\n",
    "root.right = Node(10)\n",
    "root.right.left = Node(8)\n",
    "root.right.right = Node(12)\n",
    "root.right.left.left = Node(7)\n",
    "root.right.left.right = Node(9)\n",
    "if is_bst(root) is True:\n",
    "    print(\" Yes,It is BST\")\n",
    "else:\n",
    "    print(\"Not BST\")"
   ]
  },
  {
   "cell_type": "markdown",
   "id": "969994ba",
   "metadata": {},
   "source": [
    "Problem #2\n",
    "Implement division of two positive integers without using the division, multiplication, or modulus operators. Return the quotient as an integer, ignoring the remainder.\n"
   ]
  },
  {
   "cell_type": "code",
   "execution_count": 3,
   "id": "bfce54ad",
   "metadata": {},
   "outputs": [
    {
     "name": "stdout",
     "output_type": "stream",
     "text": [
      "Enter the dividend value: 21\n",
      "Enter the divisor value: 3\n",
      "Quotient from our function : 7\n"
     ]
    }
   ],
   "source": [
    "def divide(dividend,divisor):\n",
    "    quotient=0\n",
    "    while(dividend>=divisor):\n",
    "        dividend=dividend-divisor\n",
    "        quotient+=1\n",
    "    return quotient\n",
    "a=int(input(\"Enter the dividend value: \"))\n",
    "b=int(input(\"Enter the divisor value: \"))\n",
    "print(\"Quotient from our function :\",divide(a,b))\n"
   ]
  },
  {
   "cell_type": "code",
   "execution_count": null,
   "id": "71239b33",
   "metadata": {},
   "outputs": [],
   "source": []
  }
 ],
 "metadata": {
  "kernelspec": {
   "display_name": "Python 3 (ipykernel)",
   "language": "python",
   "name": "python3"
  },
  "language_info": {
   "codemirror_mode": {
    "name": "ipython",
    "version": 3
   },
   "file_extension": ".py",
   "mimetype": "text/x-python",
   "name": "python",
   "nbconvert_exporter": "python",
   "pygments_lexer": "ipython3",
   "version": "3.9.13"
  }
 },
 "nbformat": 4,
 "nbformat_minor": 5
}
