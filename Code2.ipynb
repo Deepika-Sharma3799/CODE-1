{
 "cells": [
  {
   "cell_type": "markdown",
   "id": "eca5acb8",
   "metadata": {},
   "source": [
    "# Given a hashmap associating each courseId key with a list of courseIds values, which represents that the prerequisites of courseId are courseIds. Return a sorted ordering of courses such that we can finish all courses.\n",
    "Return null if there is no such ordering."
   ]
  },
  {
   "cell_type": "code",
   "execution_count": 1,
   "id": "a3670853",
   "metadata": {},
   "outputs": [
    {
     "name": "stdout",
     "output_type": "stream",
     "text": [
      "['CSC100', 'CSC200', 'CSC300']\n"
     ]
    }
   ],
   "source": [
    "def sortCourseId(courseId):\n",
    "    # new array\n",
    "    array = []\n",
    "\n",
    "    # create list of tuples from dict\n",
    "    for key in courseId:\n",
    "        v = key, len(courseId[key])\n",
    "        array.append(v)\n",
    "        \n",
    "    # sort by second item in tuple\n",
    "        array.sort(key=lambda x: x[1])\n",
    "    \n",
    "    # reduce to single items\n",
    "        b = [b[0] for b in array]\n",
    "\n",
    "    return b\n",
    "\n",
    "\n",
    "courseId = {'CSC300': ['CSC100','CSC200'], 'CSC200': ['CSC100'], 'CSC100': []}\n",
    "\n",
    "result = sortCourseId(courseId)\n",
    "print(result)"
   ]
  },
  {
   "cell_type": "markdown",
   "id": "4827eb15",
   "metadata": {},
   "source": [
    "# Given a 2D matrix of characters and a target word, write a function that returns whether the word can be found in the matrix by going left-to-right, or up-to-down.\n"
   ]
  },
  {
   "cell_type": "code",
   "execution_count": 2,
   "id": "16fbacdf",
   "metadata": {},
   "outputs": [
    {
     "name": "stdout",
     "output_type": "stream",
     "text": [
      "True\n"
     ]
    }
   ],
   "source": [
    "def solve(matrix, word):\n",
    "   for i in matrix:\n",
    "      i = \"\".join(i)\n",
    "      if word in i:\n",
    "         return True\n",
    "   i = 0\n",
    "   while i < len(matrix):\n",
    "      j = \"\".join([col[i] for col in matrix])\n",
    "      i += 1\n",
    "      if word in j:\n",
    "         return True\n",
    "\n",
    "   return False\n",
    "\n",
    "#example\n",
    "matrix = [['F', 'A', 'C', 'I'],\n",
    " ['O', 'B', 'Q', 'P'],\n",
    " ['A', 'N', 'O', 'B'],\n",
    " ['M', 'A', 'S', 'S']]\n",
    "word = \"FOAM\"\n",
    "\n",
    "print(solve(matrix, word))"
   ]
  },
  {
   "cell_type": "code",
   "execution_count": null,
   "id": "3fbd0855",
   "metadata": {},
   "outputs": [],
   "source": [
    "\n"
   ]
  },
  {
   "cell_type": "code",
   "execution_count": null,
   "id": "73b2a4d5",
   "metadata": {},
   "outputs": [],
   "source": []
  },
  {
   "cell_type": "code",
   "execution_count": null,
   "id": "0c560086",
   "metadata": {},
   "outputs": [],
   "source": []
  }
 ],
 "metadata": {
  "kernelspec": {
   "display_name": "Python 3 (ipykernel)",
   "language": "python",
   "name": "python3"
  },
  "language_info": {
   "codemirror_mode": {
    "name": "ipython",
    "version": 3
   },
   "file_extension": ".py",
   "mimetype": "text/x-python",
   "name": "python",
   "nbconvert_exporter": "python",
   "pygments_lexer": "ipython3",
   "version": "3.9.13"
  }
 },
 "nbformat": 4,
 "nbformat_minor": 5
}
